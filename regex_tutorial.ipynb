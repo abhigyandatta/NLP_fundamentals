{
 "cells": [
  {
   "cell_type": "code",
   "execution_count": 1,
   "metadata": {},
   "outputs": [],
   "source": [
    "import re"
   ]
  },
  {
   "cell_type": "code",
   "execution_count": 2,
   "metadata": {},
   "outputs": [],
   "source": [
    "chat1 = 'codebasics: you ask lot of questions 😠  1235678912, abc@xyz.com. alternate will be 9544467214'\n",
    "chat2 = 'codebasics: here it is: (123)-567-8912, abc@xyz.com'\n",
    "chat3 = 'codebasics: yes, phone: 1235678912 email: abc@xyz.com'"
   ]
  },
  {
   "cell_type": "code",
   "execution_count": 3,
   "metadata": {},
   "outputs": [
    {
     "data": {
      "text/plain": [
       "['1235678912', '9544467214']"
      ]
     },
     "execution_count": 3,
     "metadata": {},
     "output_type": "execute_result"
    }
   ],
   "source": [
    "pattern='\\d{10}'\n",
    "re.findall(pattern,chat1)"
   ]
  },
  {
   "cell_type": "code",
   "execution_count": 4,
   "metadata": {},
   "outputs": [
    {
     "data": {
      "text/plain": [
       "['(123)-567-8912']"
      ]
     },
     "execution_count": 4,
     "metadata": {},
     "output_type": "execute_result"
    }
   ],
   "source": [
    "pattern='\\(\\d{3}\\)-\\d{3}-\\d{4}'\n",
    "re.findall(pattern,chat2)"
   ]
  },
  {
   "cell_type": "code",
   "execution_count": 5,
   "metadata": {},
   "outputs": [
    {
     "data": {
      "text/plain": [
       "['1235678912']"
      ]
     },
     "execution_count": 5,
     "metadata": {},
     "output_type": "execute_result"
    }
   ],
   "source": [
    "both_pattern='\\d{10}|\\(\\d{3}\\)-\\d{3}-\\d{4}'\n",
    "re.findall(both_pattern,chat3)"
   ]
  },
  {
   "cell_type": "code",
   "execution_count": 6,
   "metadata": {},
   "outputs": [],
   "source": [
    "chat1 = 'codebasics: you ask lot of questions 😠  1235678912, abc@xyz.com. alternate will be 9544467214'\n",
    "chat2 = 'codebasics: here it is: (123)-567-8912, aBokc_1991@xyz.com'\n",
    "chat3 = 'codebasics: yes, phone: 1235678912 email: abc@xyz.com'"
   ]
  },
  {
   "cell_type": "code",
   "execution_count": 7,
   "metadata": {},
   "outputs": [
    {
     "data": {
      "text/plain": [
       "['abc@xyz.com']"
      ]
     },
     "execution_count": 7,
     "metadata": {},
     "output_type": "execute_result"
    }
   ],
   "source": [
    "email_pattern='[a-z0-9A-Z_]*@[a-z0-9A-Z]*\\.com'\n",
    "re.findall(email_pattern,chat3)"
   ]
  },
  {
   "cell_type": "markdown",
   "metadata": {},
   "source": [
    "# Order Chats"
   ]
  },
  {
   "cell_type": "code",
   "execution_count": 8,
   "metadata": {},
   "outputs": [],
   "source": [
    "order1='codebasics: Hello, I am having an issue with my order # 412889912'\n",
    "order2='codebasics: I have a problem with my order number 412889912'\n",
    "\n",
    "order3='codebasics: My order 412889912 is having an issue, I was charged 300$ when online it says 280$'"
   ]
  },
  {
   "cell_type": "code",
   "execution_count": 11,
   "metadata": {},
   "outputs": [
    {
     "data": {
      "text/plain": [
       "['412889912']"
      ]
     },
     "execution_count": 11,
     "metadata": {},
     "output_type": "execute_result"
    }
   ],
   "source": [
    "order_pattern='order[^0-9]*(\\d*)'\n",
    "re.findall(order_pattern,order2)"
   ]
  },
  {
   "cell_type": "markdown",
   "metadata": {},
   "source": [
    "# Information Extraction"
   ]
  },
  {
   "cell_type": "code",
   "execution_count": 12,
   "metadata": {},
   "outputs": [],
   "source": [
    "text='''\n",
    "Born\tElon Reeve Musk\n",
    "June 28, 1971 (age 50)\n",
    "Pretoria, Transvaal, South Africa\n",
    "Citizenship\t\n",
    "South Africa (1971–present)\n",
    "Canada (1971–present)\n",
    "United States (2002–present)\n",
    "Education\tUniversity of Pennsylvania (BS, BA)\n",
    "Title\t\n",
    "Founder, CEO and Chief Engineer of SpaceX\n",
    "CEO and product architect of Tesla, Inc.\n",
    "Founder of The Boring Company and X.com (now part of PayPal)\n",
    "Co-founder of Neuralink, OpenAI, and Zip2\n",
    "Spouse(s)\t\n",
    "Justine Wilson\n",
    "​\n",
    "​(m. 2000; div. 2008)​\n",
    "Talulah Riley\n",
    "​\n",
    "​(m. 2010; div. 2012)​\n",
    "​\n",
    "​(m. 2013; div. 2016)\n",
    "'''"
   ]
  },
  {
   "cell_type": "code",
   "execution_count": 19,
   "metadata": {},
   "outputs": [
    {
     "name": "stdout",
     "output_type": "stream",
     "text": [
      "['50']\n",
      "Elon Reeve Musk\n"
     ]
    }
   ],
   "source": [
    "#find age\n",
    "age_pattern='age (\\d+)'\n",
    "print(re.findall(age_pattern,text))\n",
    "\n",
    "#find name pattern\n",
    "name_pattern='Born(.*\\n)'\n",
    "name=re.findall(name_pattern,text)\n",
    "print(str.strip(name[0]))"
   ]
  },
  {
   "cell_type": "code",
   "execution_count": 22,
   "metadata": {},
   "outputs": [
    {
     "name": "stdout",
     "output_type": "stream",
     "text": [
      "['June 28, 1971 ']\n",
      "['Pretoria, Transvaal, South Africa']\n"
     ]
    }
   ],
   "source": [
    "# Date of Birth\n",
    "\n",
    "dob_pattern='Born.*\\n(.*)\\(age'\n",
    "print(re.findall(dob_pattern,text))\n",
    "\n",
    "#Birthplace\n",
    "birthplace_pattern='\\(age.*\\)\\n(.*)'\n",
    "print(re.findall(birthplace_pattern,text))"
   ]
  },
  {
   "cell_type": "code",
   "execution_count": 23,
   "metadata": {},
   "outputs": [],
   "source": [
    "def get_pattern_match(pattern,text):\n",
    "    match=re.findall(pattern,text)\n",
    "    if match:\n",
    "        return match[0]"
   ]
  },
  {
   "cell_type": "code",
   "execution_count": 24,
   "metadata": {},
   "outputs": [],
   "source": [
    "def get_info(text):\n",
    "    name=get_pattern_match('Born(.*\\n)',text)\n",
    "    age=get_pattern_match('age (\\d+)',text)\n",
    "    dob=get_pattern_match('Born.*\\n(.*)\\(age',text)\n",
    "    birth_place=get_pattern_match('\\(age.*\\)\\n(.*)',text)\n",
    "    \n",
    "    #create a dictionary of personal info\n",
    "    return{\n",
    "        'Name': str.strip(name),\n",
    "        'Age': int(age),\n",
    "        'Date of Birth': dob,\n",
    "        'Place of Birth': str.strip(birth_place)\n",
    "    }"
   ]
  },
  {
   "cell_type": "code",
   "execution_count": 27,
   "metadata": {},
   "outputs": [],
   "source": [
    "magnus='''Born\tSven Magnus Øen Carlsen\n",
    "30 November 1990 (age 31)\n",
    "Tønsberg, Norway\n",
    "Country\tNorway\n",
    "Title\tGrandmaster (2004)\n",
    "World Champion\t2013–present\n",
    "FIDE rating\t2864 (June 2022)\n",
    "Peak rating\t2882 (May 2014)\n",
    "Ranking\tNo. 1 (June 2022)\n",
    "Peak ranking\tNo. 1 (January 2010)\n",
    "Website\tmagnuscarlsen.com/en/\n",
    "'''"
   ]
  },
  {
   "cell_type": "code",
   "execution_count": 28,
   "metadata": {},
   "outputs": [
    {
     "data": {
      "text/plain": [
       "{'Name': 'Sven Magnus Øen Carlsen',\n",
       " 'Age': 31,\n",
       " 'Date of Birth': '30 November 1990 ',\n",
       " 'Place of Birth': 'Tønsberg, Norway'}"
      ]
     },
     "execution_count": 28,
     "metadata": {},
     "output_type": "execute_result"
    }
   ],
   "source": [
    "get_info(magnus)"
   ]
  },
  {
   "cell_type": "code",
   "execution_count": null,
   "metadata": {},
   "outputs": [],
   "source": []
  }
 ],
 "metadata": {
  "kernelspec": {
   "display_name": "Python 3",
   "language": "python",
   "name": "python3"
  },
  "language_info": {
   "codemirror_mode": {
    "name": "ipython",
    "version": 3
   },
   "file_extension": ".py",
   "mimetype": "text/x-python",
   "name": "python",
   "nbconvert_exporter": "python",
   "pygments_lexer": "ipython3",
   "version": "3.7.4"
  }
 },
 "nbformat": 4,
 "nbformat_minor": 2
}
