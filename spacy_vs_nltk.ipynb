{
 "cells": [
  {
   "cell_type": "markdown",
   "metadata": {},
   "source": [
    "# Spacy"
   ]
  },
  {
   "cell_type": "code",
   "execution_count": 1,
   "metadata": {},
   "outputs": [],
   "source": [
    "import spacy"
   ]
  },
  {
   "cell_type": "code",
   "execution_count": 3,
   "metadata": {},
   "outputs": [],
   "source": [
    "nlp=spacy.load(\"en_core_web_sm\")"
   ]
  },
  {
   "cell_type": "code",
   "execution_count": 4,
   "metadata": {},
   "outputs": [],
   "source": [
    "doc=nlp('''Ms Bandla, 34, followed her dream as she grew up in the United States. \n",
    "She couldn't be a NASA astronaut due to poor eyesight - and took the engineering route instead. \n",
    "The young aerospace engineer was part of the team that went up with Sir Richard Branson in the first-ever space flight of the billionaire's Virgin Galactic last July.''')"
   ]
  },
  {
   "cell_type": "markdown",
   "metadata": {},
   "source": [
    "## Sentence Tokenization in spacy"
   ]
  },
  {
   "cell_type": "code",
   "execution_count": 6,
   "metadata": {},
   "outputs": [
    {
     "name": "stdout",
     "output_type": "stream",
     "text": [
      "Ms Bandla, 34, followed her dream as she grew up in the United States.\n",
      "\n",
      "She couldn't be a NASA astronaut due to poor eyesight - and took the engineering route instead.\n",
      "\n",
      "The young aerospace engineer was part of the team that went up with Sir Richard Branson in the first-ever space flight of the billionaire's Virgin Galactic last July.\n"
     ]
    }
   ],
   "source": [
    "for sentence in doc.sents:\n",
    "    print(sentence)"
   ]
  },
  {
   "cell_type": "markdown",
   "metadata": {},
   "source": [
    "## Word tokenization in Spacy"
   ]
  },
  {
   "cell_type": "code",
   "execution_count": 13,
   "metadata": {},
   "outputs": [
    {
     "name": "stdout",
     "output_type": "stream",
     "text": [
      "Ms\tBandla\t,\t34\t,\tfollowed\ther\tdream\tas\tshe\tgrew\tup\tin\tthe\tUnited\tStates\t.\t\n",
      "\tShe\tcould\tn't\tbe\ta\tNASA\tastronaut\tdue\tto\tpoor\teyesight\t-\tand\ttook\tthe\tengineering\troute\tinstead\t.\t\n",
      "\tThe\tyoung\taerospace\tengineer\twas\tpart\tof\tthe\tteam\tthat\twent\tup\twith\tSir\tRichard\tBranson\tin\tthe\tfirst\t-\tever\tspace\tflight\tof\tthe\tbillionaire\t's\tVirgin\tGalactic\tlast\tJuly\t.\t"
     ]
    }
   ],
   "source": [
    "for sentence in doc.sents:\n",
    "    for word in sentence:\n",
    "        print(word,end='\\t')"
   ]
  },
  {
   "cell_type": "markdown",
   "metadata": {},
   "source": [
    "# NLTK"
   ]
  },
  {
   "cell_type": "code",
   "execution_count": 14,
   "metadata": {},
   "outputs": [],
   "source": [
    "import nltk"
   ]
  },
  {
   "cell_type": "code",
   "execution_count": 15,
   "metadata": {},
   "outputs": [],
   "source": [
    "from nltk.tokenize import sent_tokenize,word_tokenize"
   ]
  },
  {
   "cell_type": "code",
   "execution_count": 16,
   "metadata": {},
   "outputs": [],
   "source": [
    "text='''\n",
    "Ms Bandla, 34, followed her dream as she grew up in the United States.\n",
    "She couldn't be a NASA astronaut due to poor eyesight - and took the engineering route instead. \n",
    "The young aerospace engineer was part of the team that went up with Sir Richard Branson in the first-ever space flight\n",
    "of the billionaire's Virgin Galactic last July.'''"
   ]
  },
  {
   "cell_type": "code",
   "execution_count": 19,
   "metadata": {},
   "outputs": [
    {
     "name": "stdout",
     "output_type": "stream",
     "text": [
      "\n",
      "Ms Bandla, 34, followed her dream as she grew up in the United States.\n",
      "She couldn't be a NASA astronaut due to poor eyesight - and took the engineering route instead.\n",
      "The young aerospace engineer was part of the team that went up with Sir Richard Branson in the first-ever space flight\n",
      "of the billionaire's Virgin Galactic last July.\n"
     ]
    }
   ],
   "source": [
    "for sentence in sent_tokenize(text):\n",
    "    print(sentence)"
   ]
  },
  {
   "cell_type": "code",
   "execution_count": 21,
   "metadata": {},
   "outputs": [
    {
     "name": "stdout",
     "output_type": "stream",
     "text": [
      "Ms\tBandla\t,\t34\t,\tfollowed\ther\tdream\tas\tshe\tgrew\tup\tin\tthe\tUnited\tStates\t.\tShe\tcould\tn't\tbe\ta\tNASA\tastronaut\tdue\tto\tpoor\teyesight\t-\tand\ttook\tthe\tengineering\troute\tinstead\t.\tThe\tyoung\taerospace\tengineer\twas\tpart\tof\tthe\tteam\tthat\twent\tup\twith\tSir\tRichard\tBranson\tin\tthe\tfirst-ever\tspace\tflight\tof\tthe\tbillionaire\t's\tVirgin\tGalactic\tlast\tJuly\t.\t"
     ]
    }
   ],
   "source": [
    "for word in word_tokenize(text):\n",
    "    print(word,end='\\t')"
   ]
  },
  {
   "cell_type": "code",
   "execution_count": null,
   "metadata": {},
   "outputs": [],
   "source": []
  }
 ],
 "metadata": {
  "kernelspec": {
   "display_name": "Python 3",
   "language": "python",
   "name": "python3"
  },
  "language_info": {
   "codemirror_mode": {
    "name": "ipython",
    "version": 3
   },
   "file_extension": ".py",
   "mimetype": "text/x-python",
   "name": "python",
   "nbconvert_exporter": "python",
   "pygments_lexer": "ipython3",
   "version": "3.7.4"
  }
 },
 "nbformat": 4,
 "nbformat_minor": 2
}
