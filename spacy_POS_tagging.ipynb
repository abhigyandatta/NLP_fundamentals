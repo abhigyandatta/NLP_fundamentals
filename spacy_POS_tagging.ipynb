{
 "cells": [
  {
   "cell_type": "code",
   "execution_count": 1,
   "metadata": {},
   "outputs": [],
   "source": [
    "import spacy"
   ]
  },
  {
   "cell_type": "code",
   "execution_count": 2,
   "metadata": {},
   "outputs": [],
   "source": [
    "nlp=spacy.load('en_core_web_sm')"
   ]
  },
  {
   "cell_type": "code",
   "execution_count": 6,
   "metadata": {},
   "outputs": [],
   "source": [
    "text=\"I'm confused: when people ask me what's up, and I point,  they groan.\"\n",
    "doc=nlp(text)"
   ]
  },
  {
   "cell_type": "code",
   "execution_count": 7,
   "metadata": {},
   "outputs": [
    {
     "name": "stdout",
     "output_type": "stream",
     "text": [
      "I | PRON | pronoun\n",
      "'m | AUX | auxiliary\n",
      "confused | VERB | verb\n",
      ": | PUNCT | punctuation\n",
      "when | SCONJ | subordinating conjunction\n",
      "people | NOUN | noun\n",
      "ask | VERB | verb\n",
      "me | PRON | pronoun\n",
      "what | PRON | pronoun\n",
      "'s | AUX | auxiliary\n",
      "up | ADV | adverb\n",
      ", | PUNCT | punctuation\n",
      "and | CCONJ | coordinating conjunction\n",
      "I | PRON | pronoun\n",
      "point | VERB | verb\n",
      ", | PUNCT | punctuation\n",
      "  | SPACE | space\n",
      "they | PRON | pronoun\n",
      "groan | VERB | verb\n",
      ". | PUNCT | punctuation\n"
     ]
    }
   ],
   "source": [
    "for word in doc:\n",
    "    print(word,word.pos_,spacy.explain(word.pos_),sep=' | ')"
   ]
  },
  {
   "cell_type": "code",
   "execution_count": 20,
   "metadata": {},
   "outputs": [],
   "source": [
    "# Remove punctuation and white spaces,aux\n",
    "\n",
    "def clean_text(text):\n",
    "    doc=nlp(text)\n",
    "    clean_txt=[]\n",
    "    for word in doc:\n",
    "        if word.pos_ not in ['PUNCT','AUX','SPACE']:\n",
    "            clean_txt.append(word)\n",
    "        else:\n",
    "            pass\n",
    "    return ' '.join([str(i) for i in cleaned]) "
   ]
  },
  {
   "cell_type": "code",
   "execution_count": 21,
   "metadata": {},
   "outputs": [
    {
     "name": "stdout",
     "output_type": "stream",
     "text": [
      "I confused when people ask me what up and I point they groan\n"
     ]
    }
   ],
   "source": [
    "sample=\"I'm confused: when people ask me what's up, and I point,  they groan.\"\n",
    "cleaned=clean_text(sample)\n",
    "print(cleaned)"
   ]
  },
  {
   "cell_type": "code",
   "execution_count": 8,
   "metadata": {},
   "outputs": [
    {
     "name": "stdout",
     "output_type": "stream",
     "text": [
      "I | PRP | pronoun, personal\n",
      "'m | VBP | verb, non-3rd person singular present\n",
      "confused | VBN | verb, past participle\n",
      ": | : | punctuation mark, colon or ellipsis\n",
      "when | WRB | wh-adverb\n",
      "people | NNS | noun, plural\n",
      "ask | VBP | verb, non-3rd person singular present\n",
      "me | PRP | pronoun, personal\n",
      "what | WP | wh-pronoun, personal\n",
      "'s | VBZ | verb, 3rd person singular present\n",
      "up | RB | adverb\n",
      ", | , | punctuation mark, comma\n",
      "and | CC | conjunction, coordinating\n",
      "I | PRP | pronoun, personal\n",
      "point | VBP | verb, non-3rd person singular present\n",
      ", | , | punctuation mark, comma\n",
      "  | _SP | whitespace\n",
      "they | PRP | pronoun, personal\n",
      "groan | VBP | verb, non-3rd person singular present\n",
      ". | . | punctuation mark, sentence closer\n"
     ]
    }
   ],
   "source": [
    "for word in doc:\n",
    "    print(word,word.tag_,spacy.explain(word.tag_),sep=' | ')"
   ]
  },
  {
   "cell_type": "code",
   "execution_count": null,
   "metadata": {},
   "outputs": [],
   "source": []
  }
 ],
 "metadata": {
  "kernelspec": {
   "display_name": "Python 3",
   "language": "python",
   "name": "python3"
  },
  "language_info": {
   "codemirror_mode": {
    "name": "ipython",
    "version": 3
   },
   "file_extension": ".py",
   "mimetype": "text/x-python",
   "name": "python",
   "nbconvert_exporter": "python",
   "pygments_lexer": "ipython3",
   "version": "3.7.4"
  }
 },
 "nbformat": 4,
 "nbformat_minor": 2
}
